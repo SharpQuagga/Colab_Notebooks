{
  "nbformat": 4,
  "nbformat_minor": 0,
  "metadata": {
    "colab": {
      "name": "AgeAndGender.ipynb",
      "provenance": [],
      "include_colab_link": true
    },
    "kernelspec": {
      "name": "python3",
      "display_name": "Python 3"
    },
    "accelerator": "GPU"
  },
  "cells": [
    {
      "cell_type": "markdown",
      "metadata": {
        "id": "view-in-github",
        "colab_type": "text"
      },
      "source": [
        "<a href=\"https://colab.research.google.com/github/SharpQuagga/Colab_Notebooks/blob/master/AgeAndGender.ipynb\" target=\"_parent\"><img src=\"https://colab.research.google.com/assets/colab-badge.svg\" alt=\"Open In Colab\"/></a>"
      ]
    },
    {
      "cell_type": "code",
      "metadata": {
        "id": "mozoFs7x2EKl",
        "colab_type": "code",
        "outputId": "9049f8f3-910f-4d21-8607-11e7ece781ed",
        "colab": {
          "base_uri": "https://localhost:8080/",
          "height": 97
        }
      },
      "source": [
        "!pip install OpenCV-python\n",
        "!pip install pafy\n",
        "!pip install youtube_dl\n"
      ],
      "execution_count": 0,
      "outputs": [
        {
          "output_type": "stream",
          "text": [
            "Requirement already satisfied: OpenCV-python in /usr/local/lib/python3.6/dist-packages (3.4.7.28)\n",
            "Requirement already satisfied: numpy>=1.11.3 in /usr/local/lib/python3.6/dist-packages (from OpenCV-python) (1.17.3)\n",
            "Requirement already satisfied: pafy in /usr/local/lib/python3.6/dist-packages (0.5.4)\n"
          ],
          "name": "stdout"
        }
      ]
    },
    {
      "cell_type": "code",
      "metadata": {
        "id": "OSFY1hfk2rkE",
        "colab_type": "code",
        "outputId": "9b7a0bc4-d1a7-479d-cf82-d410c9df756f",
        "colab": {
          "base_uri": "https://localhost:8080/",
          "height": 34
        }
      },
      "source": [
        "from google.colab import drive\n",
        "drive.mount('/content/drive')"
      ],
      "execution_count": 0,
      "outputs": [
        {
          "output_type": "stream",
          "text": [
            "Drive already mounted at /content/drive; to attempt to forcibly remount, call drive.mount(\"/content/drive\", force_remount=True).\n"
          ],
          "name": "stdout"
        }
      ]
    },
    {
      "cell_type": "code",
      "metadata": {
        "id": "gNlR97NuePzh",
        "colab_type": "code",
        "outputId": "4d33ac95-ceff-47d2-ca01-929212111a87",
        "colab": {
          "base_uri": "https://localhost:8080/",
          "height": 54
        }
      },
      "source": [
        "import cv2\n",
        "import numpy as np\n",
        "import pafy\n",
        "#url of the video to predict Age and gender\n",
        "url = 'https://www.youtube.com/watch?v=c07IsbSNqfI&feature=youtu.be'\n",
        "vPafy = pafy.new(url)\n",
        "play = vPafy.getbest(preftype=\"mp4\") \n",
        "cap = cv2.VideoCapture(play.url)\n",
        "print(play.url)"
      ],
      "execution_count": 0,
      "outputs": [
        {
          "output_type": "stream",
          "text": [
            "https://r5---sn-5hnedn7l.googlevideo.com/videoplayback?expire=1573516946&ei=MqLJXdHHHoKu7gOis5rIBQ&ip=35.204.193.3&id=o-AG8SXKik_1Dijp2rf-IdtKMJ84XNFNDvmDgAS8VyZHS5&itag=22&source=youtube&requiressl=yes&mm=31%2C29&mn=sn-5hnedn7l%2Csn-5hne6n7l&ms=au%2Crdu&mv=m&mvi=4&pl=20&initcwndbps=2033750&mime=video%2Fmp4&ratebypass=yes&dur=1687.579&lmt=1520524663590094&mt=1573495161&fvip=5&fexp=23842630&c=WEB&sparams=expire%2Cei%2Cip%2Cid%2Citag%2Csource%2Crequiressl%2Cmime%2Cratebypass%2Cdur%2Clmt&sig=ALgxI2wwRQIgAXzx6urDOo9J_HVsVLGkdjRKaMlDoeo-09Pft1lSVQICIQDTVlaKF0E0OGgBpauImQAjM9KKOofY2vKO4dIHhKIB4w%3D%3D&lsparams=mm%2Cmn%2Cms%2Cmv%2Cmvi%2Cpl%2Cinitcwndbps&lsig=AHylml4wRgIhAIuivtoq90yJrF_ARjIhSLpnY3rbNtf1b-lXJWFoQLavAiEA_mQ1uUWl6_DrSqsfbTdNSa8KXc6UumnBiz_HnPPooXU%3D\n"
          ],
          "name": "stdout"
        }
      ]
    },
    {
      "cell_type": "code",
      "metadata": {
        "id": "7VBQzs7a2vq2",
        "colab_type": "code",
        "colab": {}
      },
      "source": [
        "\n",
        "cap.set(3, 480) #set width of the frame\n",
        "cap.set(4, 640) #set height of the frame\n",
        "MODEL_MEAN_VALUES = (78.4263377603, 87.7689143744, 114.895847746)\n",
        "age_list = ['(0, 2)', '(4, 6)', '(8, 12)', '(15, 20)', '(25, 32)', '(38, 43)', '(48, 53)', '(60, 100)']\n",
        "gender_list = ['Male', 'Female']\n",
        "\n",
        "\n",
        "def load_caffe_models():\n",
        " \n",
        "    age_net = cv2.dnn.readNetFromCaffe('/content/drive/My Drive/Age and Gender/deploy_age.prototxt', '/content/drive/My Drive/Age and Gender/age_net.caffemodel')\n",
        "    gender_net = cv2.dnn.readNetFromCaffe('/content/drive/My Drive/Age and Gender/deploy_gender.prototxt', '/content/drive/My Drive/Age and Gender/gender_net.caffemodel')\n",
        "    return(age_net, gender_net)\n",
        "\n",
        "\n",
        "def video_detector(age_net, gender_net):\n",
        "    font = cv2.FONT_HERSHEY_SIMPLEX\n",
        "    while True:\n",
        "        ret, image = cap.read()\n",
        "        \n",
        "        face_cascade = cv2.CascadeClassifier('/content/drive/My Drive/Age and Gender/haarcascade_frontalface_default.xml')\n",
        "        if ret:\n",
        "          gray = cv2.cvtColor(image, cv2.COLOR_BGR2GRAY)\n",
        "          faces = face_cascade.detectMultiScale(gray, 1.1, 5)\n",
        "\n",
        "          if(len(faces)>0):\n",
        "              print(\"Found {} faces\".format(str(len(faces))))\n",
        "              for (x, y, w, h )in faces:\n",
        "                  cv2.rectangle(image, (x, y), (x+w, y+h), (255, 255, 0), 2)\n",
        "                  #Get Face \n",
        "                  face_img = image[y:y+h, h:h+w].copy()\n",
        "                  blob = cv2.dnn.blobFromImage(face_img, 1, (227, 227), MODEL_MEAN_VALUES, swapRB=False)\n",
        "                  #Predict Gender\n",
        "                  gender_net.setInput(blob)\n",
        "                  gender_preds = gender_net.forward()\n",
        "                  gender = gender_list[gender_preds[0].argmax()]\n",
        "                  print(\"Gender : \" + gender)\n",
        "                  #Predict Age\n",
        "                  age_net.setInput(blob)\n",
        "                  age_preds = age_net.forward()\n",
        "                  age = age_list[age_preds[0].argmax()]\n",
        "                  print(\"Age Range: \" + age)\n",
        "                  overlay_text = \"%s %s\" % (gender, age)\n",
        "                  cv2.putText(image, overlay_text, (x, y), font, 1, (255, 255, 255), 2, cv2.LINE_AA)\n",
        "                  cv2.imshow('frame', image)  \n",
        "                  #0xFF is a hexadecimal constant which is 11111111 in binary.\n",
        "                  if cv2.waitKey(1) & 0xFF == ord('q'): \n",
        "                      break\n",
        "\n",
        "if __name__ == \"__main__\":\n",
        "    age_net, gender_net = load_caffe_models()\n",
        "    video_detector(age_net, gender_net)\n"
      ],
      "execution_count": 0,
      "outputs": []
    },
    {
      "cell_type": "code",
      "metadata": {
        "id": "ikqSRByf26y6",
        "colab_type": "code",
        "colab": {}
      },
      "source": [
        ""
      ],
      "execution_count": 0,
      "outputs": []
    }
  ]
}